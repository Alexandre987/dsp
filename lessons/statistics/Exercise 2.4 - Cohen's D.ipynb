{
 "cells": [
  {
   "cell_type": "code",
   "execution_count": 39,
   "metadata": {},
   "outputs": [],
   "source": [
    "import thinkstats2\n",
    "import nsfg\n",
    "import math"
   ]
  },
  {
   "cell_type": "code",
   "execution_count": 5,
   "metadata": {},
   "outputs": [
    {
     "name": "stdout",
     "output_type": "stream",
     "text": [
      "thinkstats2\t \n"
     ]
    }
   ],
   "source": [
    "%who"
   ]
  },
  {
   "cell_type": "code",
   "execution_count": 6,
   "metadata": {},
   "outputs": [
    {
     "data": {
      "text/plain": [
       "<module 'thinkstats2' from '/Users/alexandrezajic/metis/prework/ThinkStats2/code/thinkstats2.py'>"
      ]
     },
     "execution_count": 6,
     "metadata": {},
     "output_type": "execute_result"
    }
   ],
   "source": [
    "thinkstats2"
   ]
  },
  {
   "cell_type": "code",
   "execution_count": 11,
   "metadata": {},
   "outputs": [],
   "source": [
    "df = nsfg.ReadFemPreg()"
   ]
  },
  {
   "cell_type": "code",
   "execution_count": 19,
   "metadata": {},
   "outputs": [
    {
     "data": {
      "text/plain": [
       "Index(['caseid', 'pregordr', 'howpreg_n', 'howpreg_p', 'moscurrp', 'nowprgdk',\n",
       "       'pregend1', 'pregend2', 'nbrnaliv', 'multbrth',\n",
       "       ...\n",
       "       'laborfor_i', 'religion_i', 'metro_i', 'basewgt', 'adj_mod_basewgt',\n",
       "       'finalwgt', 'secu_p', 'sest', 'cmintvw', 'totalwgt_lb'],\n",
       "      dtype='object', length=244)"
      ]
     },
     "execution_count": 19,
     "metadata": {},
     "output_type": "execute_result"
    }
   ],
   "source": [
    "df.columns"
   ]
  },
  {
   "cell_type": "code",
   "execution_count": 20,
   "metadata": {},
   "outputs": [],
   "source": [
    "df['totalwgt_lb'] = df['birthwgt_lb'] + (df['birthwgt_oz'] / 16)"
   ]
  },
  {
   "cell_type": "code",
   "execution_count": 28,
   "metadata": {},
   "outputs": [
    {
     "data": {
      "text/plain": [
       "0        8.8125\n",
       "1        7.8750\n",
       "2        9.1250\n",
       "3        7.0000\n",
       "4        6.1875\n",
       "5        8.5625\n",
       "6        9.5625\n",
       "7        8.3750\n",
       "8        7.5625\n",
       "9        6.6250\n",
       "10       7.8125\n",
       "11       7.0000\n",
       "12       4.0000\n",
       "13          NaN\n",
       "14          NaN\n",
       "15       7.6875\n",
       "16       7.5000\n",
       "17       6.3125\n",
       "18          NaN\n",
       "19       8.7500\n",
       "20       8.1875\n",
       "21       5.5625\n",
       "22          NaN\n",
       "23       6.7500\n",
       "24       7.3750\n",
       "25       6.8125\n",
       "26       8.1250\n",
       "27       7.1250\n",
       "28       6.0625\n",
       "29       7.4375\n",
       "          ...  \n",
       "13563    7.6875\n",
       "13564    7.6250\n",
       "13565    8.1250\n",
       "13566    7.5000\n",
       "13567       NaN\n",
       "13568       NaN\n",
       "13569    5.8125\n",
       "13570    6.6875\n",
       "13571    6.0000\n",
       "13572    5.8125\n",
       "13573    6.5625\n",
       "13574    6.1250\n",
       "13575       NaN\n",
       "13576    6.4375\n",
       "13577       NaN\n",
       "13578    6.0000\n",
       "13579    7.0000\n",
       "13580       NaN\n",
       "13581    6.3750\n",
       "13582       NaN\n",
       "13583       NaN\n",
       "13584    6.3750\n",
       "13585       NaN\n",
       "13586       NaN\n",
       "13587       NaN\n",
       "13588    6.1875\n",
       "13589       NaN\n",
       "13590       NaN\n",
       "13591    7.5000\n",
       "13592    7.5000\n",
       "Name: totalwgt_lb, Length: 13593, dtype: float64"
      ]
     },
     "execution_count": 28,
     "metadata": {},
     "output_type": "execute_result"
    }
   ],
   "source": [
    "df['totalwgt_lb']"
   ]
  },
  {
   "cell_type": "code",
   "execution_count": null,
   "metadata": {},
   "outputs": [],
   "source": [
    "df['totalwgt_lb'].isna() == df['birthwgt_lb'].isna()\n",
    "# Eyeballing quickly that no error in my calculation was causing new \"NaN\"s to be created"
   ]
  },
  {
   "cell_type": "code",
   "execution_count": 35,
   "metadata": {
    "collapsed": true
   },
   "outputs": [
    {
     "data": {
      "text/plain": [
       "0        1\n",
       "1        2\n",
       "2        1\n",
       "3        2\n",
       "4        3\n",
       "5        1\n",
       "6        2\n",
       "7        3\n",
       "8        1\n",
       "9        2\n",
       "10       1\n",
       "11       1\n",
       "12       2\n",
       "13       3\n",
       "14       1\n",
       "15       2\n",
       "16       3\n",
       "17       1\n",
       "18       2\n",
       "19       1\n",
       "20       2\n",
       "21       1\n",
       "22       2\n",
       "23       1\n",
       "24       2\n",
       "25       3\n",
       "26       1\n",
       "27       1\n",
       "28       2\n",
       "29       3\n",
       "        ..\n",
       "13563    2\n",
       "13564    3\n",
       "13565    1\n",
       "13566    1\n",
       "13567    1\n",
       "13568    2\n",
       "13569    1\n",
       "13570    2\n",
       "13571    3\n",
       "13572    4\n",
       "13573    1\n",
       "13574    2\n",
       "13575    1\n",
       "13576    1\n",
       "13577    2\n",
       "13578    1\n",
       "13579    2\n",
       "13580    1\n",
       "13581    2\n",
       "13582    3\n",
       "13583    1\n",
       "13584    2\n",
       "13585    1\n",
       "13586    2\n",
       "13587    3\n",
       "13588    1\n",
       "13589    2\n",
       "13590    3\n",
       "13591    4\n",
       "13592    5\n",
       "Name: pregordr, Length: 13593, dtype: int64"
      ]
     },
     "execution_count": 35,
     "metadata": {},
     "output_type": "execute_result"
    }
   ],
   "source": [
    "df['pregordr']"
   ]
  },
  {
   "cell_type": "code",
   "execution_count": 36,
   "metadata": {},
   "outputs": [],
   "source": [
    "first_babies = df.loc[df['pregordr'] == 1, 'totalwgt_lb']\n",
    "later_babies = df.loc[df['pregordr'] != 1, 'totalwgt_lb']"
   ]
  },
  {
   "cell_type": "code",
   "execution_count": 45,
   "metadata": {},
   "outputs": [],
   "source": [
    "def CohensD(pop1, pop2):\n",
    "    mean_diff = abs(pop1.mean() - pop2.mean())\n",
    "    \n",
    "    n1, n2 = len(pop1), len(pop2)\n",
    "    var1 = pop1.var()\n",
    "    var2 = pop2.var()\n",
    "    \n",
    "    pooled_var = (n1 * var1 + n2 * var2)/(n1 + n2)\n",
    "    d = mean_diff / math.sqrt(pooled_var)\n",
    "    return d"
   ]
  },
  {
   "cell_type": "code",
   "execution_count": 46,
   "metadata": {},
   "outputs": [
    {
     "data": {
      "text/plain": [
       "0.06911825348820934"
      ]
     },
     "execution_count": 46,
     "metadata": {},
     "output_type": "execute_result"
    }
   ],
   "source": [
    "CohensD(first_babies, later_babies)"
   ]
  },
  {
   "cell_type": "markdown",
   "metadata": {},
   "source": [
    "Cohen's D for **birth weight** differences between first babies and others is ~0.069, which is noticeably higher than Cohen's D for **pregnancy length** differences between first babies and others (~0.029).\n",
    "\n",
    "Despite this difference between the Cohen's D values, Cohen's D for birth weight differences is still quite small, at 0.069 standard deviations of variation.\n",
    "\n",
    "*Though this calculation comes from a sample, I chose to stay consistent with his earlier calculations and calculate the variance as he did, without factoring in the differences between samples and populations*"
   ]
  },
  {
   "cell_type": "code",
   "execution_count": null,
   "metadata": {},
   "outputs": [],
   "source": []
  }
 ],
 "metadata": {
  "kernelspec": {
   "display_name": "Python 3",
   "language": "python",
   "name": "python3"
  },
  "language_info": {
   "codemirror_mode": {
    "name": "ipython",
    "version": 3
   },
   "file_extension": ".py",
   "mimetype": "text/x-python",
   "name": "python",
   "nbconvert_exporter": "python",
   "pygments_lexer": "ipython3",
   "version": "3.7.2"
  }
 },
 "nbformat": 4,
 "nbformat_minor": 2
}
